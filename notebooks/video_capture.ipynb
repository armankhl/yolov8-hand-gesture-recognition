{
 "cells": [
  {
   "cell_type": "code",
   "execution_count": 2,
   "metadata": {},
   "outputs": [
    {
     "name": "stdout",
     "output_type": "stream",
     "text": [
      "Extracted and preprocessed 195 frames from the video.\n"
     ]
    }
   ],
   "source": [
    "import cv2\n",
    "import os\n",
    "\n",
    "# Directory containing the original frames\n",
    "video_path = 'E:\\\\Programming\\\\Projects\\\\Hand Pose Detection - DL\\\\dataset\\\\MySelf\\\\All.mp4'  # Replace with your input directory path\n",
    "\n",
    "# Directory to save the preprocessed frames\n",
    "output_dir = 'E:\\\\Programming\\\\Projects\\\\Hand Pose Detection - DL\\\\dataset\\\\MySelf\\\\OneToFive_VFR'  # Replace with your output directory path\n",
    "if not os.path.exists(output_dir):\n",
    "    os.makedirs(output_dir)\n",
    "\n",
    "# Time interval between frames (in seconds)\n",
    "time_interval = 0.5\n",
    "\n",
    "# Parameters for preprocessing\n",
    "# resize_dimensions = (640, 480)  # Resize to 640x480\n",
    "compression_quality = 75  # Compression quality for JPEG (0-100, higher is better quality)\n",
    "\n",
    "# Open the video file\n",
    "cap = cv2.VideoCapture(video_path)\n",
    "\n",
    "# Get the frames per second (fps) of the video\n",
    "fps = cap.get(cv2.CAP_PROP_FPS)\n",
    "frame_interval = int(fps * time_interval)\n",
    "\n",
    "frame_count = 0\n",
    "saved_frame_count = 0\n",
    "\n",
    "while cap.isOpened():\n",
    "    ret, frame = cap.read()\n",
    "    if not ret:\n",
    "        break\n",
    "\n",
    "    if frame_count % frame_interval == 0:\n",
    "        # Resize the frame\n",
    "        # resized_frame = cv2.resize(frame, resize_dimensions, interpolation=cv2.INTER_AREA)\n",
    "\n",
    "        # Convert to grayscale (optional)\n",
    "        # grayscale_frame = cv2.cvtColor(resized_frame, cv2.COLOR_BGR2GRAY)\n",
    "\n",
    "        # Save the compressed frame\n",
    "        frame_filename = os.path.join(output_dir, f'frame_{saved_frame_count:04d}.jpg')\n",
    "        cv2.imwrite(frame_filename, frame, [cv2.IMWRITE_JPEG_QUALITY, compression_quality])\n",
    "\n",
    "        saved_frame_count += 1\n",
    "\n",
    "    frame_count += 1\n",
    "\n",
    "cap.release()\n",
    "# cv2.destroyAllWindows()\n",
    "\n",
    "print(f\"Extracted and preprocessed {saved_frame_count} frames from the video.\")\n"
   ]
  },
  {
   "cell_type": "code",
   "execution_count": 3,
   "metadata": {},
   "outputs": [
    {
     "ename": "error",
     "evalue": "OpenCV(4.10.0) D:\\a\\opencv-python\\opencv-python\\opencv\\modules\\highgui\\src\\window.cpp:1295: error: (-2:Unspecified error) The function is not implemented. Rebuild the library with Windows, GTK+ 2.x or Cocoa support. If you are on Ubuntu or Debian, install libgtk2.0-dev and pkg-config, then re-run cmake or configure script in function 'cvDestroyAllWindows'\n",
     "output_type": "error",
     "traceback": [
      "\u001b[1;31m---------------------------------------------------------------------------\u001b[0m",
      "\u001b[1;31merror\u001b[0m                                     Traceback (most recent call last)",
      "Cell \u001b[1;32mIn[3], line 46\u001b[0m\n\u001b[0;32m     43\u001b[0m     frame_count \u001b[38;5;241m+\u001b[39m\u001b[38;5;241m=\u001b[39m \u001b[38;5;241m1\u001b[39m\n\u001b[0;32m     45\u001b[0m cap\u001b[38;5;241m.\u001b[39mrelease()\n\u001b[1;32m---> 46\u001b[0m \u001b[43mcv2\u001b[49m\u001b[38;5;241;43m.\u001b[39;49m\u001b[43mdestroyAllWindows\u001b[49m\u001b[43m(\u001b[49m\u001b[43m)\u001b[49m\n\u001b[0;32m     48\u001b[0m \u001b[38;5;28mprint\u001b[39m(\u001b[38;5;124mf\u001b[39m\u001b[38;5;124m\"\u001b[39m\u001b[38;5;124mExtracted and preprocessed \u001b[39m\u001b[38;5;132;01m{\u001b[39;00msaved_frame_count\u001b[38;5;132;01m}\u001b[39;00m\u001b[38;5;124m frames from the video.\u001b[39m\u001b[38;5;124m\"\u001b[39m)\n",
      "\u001b[1;31merror\u001b[0m: OpenCV(4.10.0) D:\\a\\opencv-python\\opencv-python\\opencv\\modules\\highgui\\src\\window.cpp:1295: error: (-2:Unspecified error) The function is not implemented. Rebuild the library with Windows, GTK+ 2.x or Cocoa support. If you are on Ubuntu or Debian, install libgtk2.0-dev and pkg-config, then re-run cmake or configure script in function 'cvDestroyAllWindows'\n"
     ]
    }
   ],
   "source": [
    "import cv2\n",
    "import os\n",
    "\n",
    "# Directory containing the original frames\n",
    "video_path = 'E:\\\\Programming\\\\Projects\\\\Hand Pose Detection - DL\\\\dataset\\\\MySelf\\\\5.mp4'  # Replace with your input directory path\n",
    "\n",
    "# Directory to save the preprocessed frames\n",
    "output_dir = 'E:\\\\Programming\\\\Projects\\\\Hand Pose Detection - DL\\\\dataset\\\\MySelf\\\\Five_VFR'  # Replace with your output directory path\n",
    "if not os.path.exists(output_dir):\n",
    "    os.makedirs(output_dir)\n",
    "\n",
    "# Time interval between frames (in seconds)\n",
    "time_interval = 0.5\n",
    "\n",
    "# Compression quality for JPEG (0-100, higher is better quality)\n",
    "compression_quality = 70\n",
    "\n",
    "# Open the video file\n",
    "cap = cv2.VideoCapture(video_path)\n",
    "\n",
    "# Get the frames per second (fps) of the video\n",
    "fps = cap.get(cv2.CAP_PROP_FPS)\n",
    "frame_interval = int(fps * time_interval)\n",
    "\n",
    "frame_count = 0\n",
    "saved_frame_count = 0\n",
    "\n",
    "while cap.isOpened():\n",
    "    ret, frame = cap.read()\n",
    "    if not ret:\n",
    "        break\n",
    "\n",
    "    # Rotate the frame to the left\n",
    "    rotated_frame = cv2.rotate(frame, cv2.ROTATE_90_COUNTERCLOCKWISE)\n",
    "\n",
    "    if frame_count % frame_interval == 0:\n",
    "        # Save the compressed frame\n",
    "        frame_filename = os.path.join(output_dir, f'frame_{saved_frame_count:04d}.jpg')\n",
    "        cv2.imwrite(frame_filename, rotated_frame, [cv2.IMWRITE_JPEG_QUALITY, compression_quality])\n",
    "\n",
    "        saved_frame_count += 1\n",
    "\n",
    "    frame_count += 1\n",
    "\n",
    "cap.release()\n",
    "cv2.destroyAllWindows()\n",
    "\n",
    "print(f\"Extracted and preprocessed {saved_frame_count} frames from the video.\")\n"
   ]
  }
 ],
 "metadata": {
  "kernelspec": {
   "display_name": "Python 3",
   "language": "python",
   "name": "python3"
  },
  "language_info": {
   "codemirror_mode": {
    "name": "ipython",
    "version": 3
   },
   "file_extension": ".py",
   "mimetype": "text/x-python",
   "name": "python",
   "nbconvert_exporter": "python",
   "pygments_lexer": "ipython3",
   "version": "3.11.5"
  }
 },
 "nbformat": 4,
 "nbformat_minor": 2
}
